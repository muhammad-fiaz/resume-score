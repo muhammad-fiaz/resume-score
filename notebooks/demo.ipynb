{
 "cells": [
  {
   "metadata": {},
   "cell_type": "markdown",
   "source": [
    "# Resume Score Project - Google Colab Setup\n",
    "\n",
    "This notebook demonstrates how to clone and run the [Resume Score](https://github.com/muhammad-fiaz/resume-score.git) project in Google Colab.\n",
    "\n",
    "## What is Resume Score?\n",
    "\n",
    "Resume Score is a tool that helps evaluate and score resumes based on various criteria. This project allows you to analyze resumes and get feedback on their effectiveness.\n"
   ],
   "id": "aad27d6089ce6bf2"
  },
  {
   "metadata": {},
   "cell_type": "code",
   "outputs": [],
   "execution_count": null,
   "source": [
    "!git clone https://github.com/muhammad-fiaz/resume-score.git\n",
    "!pip install -r resume-score/requirements.txt\n",
    "import os\n",
    "\n",
    "# Move to the project directory\n",
    "os.chdir('resume-score')\n",
    "\n",
    "# Run Streamlit app\n",
    "!streamlit run app.py\n"
   ],
   "id": "2334bef703d31a6b"
  }
 ],
 "metadata": {},
 "nbformat": 4,
 "nbformat_minor": 5
}
